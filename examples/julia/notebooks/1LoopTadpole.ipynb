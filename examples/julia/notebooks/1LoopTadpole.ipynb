{
 "cells": [
  {
   "cell_type": "code",
   "execution_count": 1,
   "id": "799fd5b8",
   "metadata": {},
   "outputs": [
    {
     "name": "stdout",
     "output_type": "stream",
     "text": [
      "CapAndHomalg v\u001b[32m1.5.3\u001b[39m\n",
      "Imported OSCAR's components GAP and Singular_jll\n",
      "Type: ?CapAndHomalg for more information\n"
     ]
    }
   ],
   "source": [
    "using CapAndHomalg"
   ]
  },
  {
   "cell_type": "code",
   "execution_count": 2,
   "id": "2558159f",
   "metadata": {},
   "outputs": [],
   "source": [
    "LoadPackage( \"LoopIntegrals\" )"
   ]
  },
  {
   "cell_type": "code",
   "execution_count": 3,
   "id": "0b28c857",
   "metadata": {},
   "outputs": [
    {
     "data": {
      "text/plain": [
       "GAP: <A loop diagram with loop momenta [ k ] & external momenta [  ] & masses [ m ]>"
      ]
     },
     "execution_count": 3,
     "metadata": {},
     "output_type": "execute_result"
    }
   ],
   "source": [
    "LD = LoopDiagram( \"k\", \"\", masses = \"m\" )"
   ]
  },
  {
   "cell_type": "code",
   "execution_count": 4,
   "id": "f42bd5bf",
   "metadata": {},
   "outputs": [],
   "source": [
    "SetRelationsOfExternalMomenta( LD, [ ] )"
   ]
  },
  {
   "cell_type": "code",
   "execution_count": 5,
   "id": "17548933",
   "metadata": {},
   "outputs": [],
   "source": [
    "SetIndependentLorentzInvariants( LD, [ k^2 ] )"
   ]
  },
  {
   "cell_type": "code",
   "execution_count": 6,
   "id": "3cbbab24",
   "metadata": {},
   "outputs": [],
   "source": [
    "SetPropagators( LD, [ k^2 - m^2 ] )"
   ]
  },
  {
   "cell_type": "code",
   "execution_count": 7,
   "id": "eaaceee0",
   "metadata": {},
   "outputs": [],
   "source": [
    "SetNumerators( LD, [ ] )"
   ]
  },
  {
   "cell_type": "code",
   "execution_count": 8,
   "id": "1fa5c916",
   "metadata": {},
   "outputs": [],
   "source": [
    "SetExtraLorentzInvariants( LD, [ ] )"
   ]
  },
  {
   "cell_type": "code",
   "execution_count": 9,
   "id": "9a2b32a9",
   "metadata": {},
   "outputs": [
    {
     "data": {
      "text/plain": [
       "GAP: Q[m,d][D1]"
      ]
     },
     "execution_count": 9,
     "metadata": {},
     "output_type": "execute_result"
    }
   ],
   "source": [
    "R = RingOfLoopDiagram( LD )"
   ]
  },
  {
   "cell_type": "code",
   "execution_count": 10,
   "id": "904842e9",
   "metadata": {},
   "outputs": [
    {
     "data": {
      "text/plain": [
       "GAP: <A 1 x 1 matrix over a residue class ring>"
      ]
     },
     "execution_count": 10,
     "metadata": {},
     "output_type": "execute_result"
    }
   ],
   "source": [
    "ibps = MatrixOfIBPRelations( LD )"
   ]
  },
  {
   "cell_type": "code",
   "execution_count": 11,
   "id": "681f5883",
   "metadata": {},
   "outputs": [
    {
     "data": {
      "text/plain": [
       "GAP: |[ -2*m^2*a1*D1_+d-2*a1 ]|"
      ]
     },
     "execution_count": 11,
     "metadata": {},
     "output_type": "execute_result"
    }
   ],
   "source": [
    "ibp = MatElm( ibps, 1, 1 )"
   ]
  },
  {
   "cell_type": "code",
   "execution_count": 12,
   "id": "04d0a4ab",
   "metadata": {},
   "outputs": [
    {
     "name": "stdout",
     "output_type": "stream",
     "text": [
      "[ [ |[ -2*m^2*a1 ]|, |[ D1_ ]| ],\n",
      "  [ |[ d-2*a1 ]|, |[ 1 ]| ] ]\n"
     ]
    }
   ],
   "source": [
    "ViewList( DecomposeInMonomials( ibp ) )"
   ]
  },
  {
   "cell_type": "code",
   "execution_count": 13,
   "id": "6212ddbe",
   "metadata": {},
   "outputs": [
    {
     "data": {
      "text/plain": [
       "GAP: Q[m,d][a1]<D1,D1_>/( D1*D1_-1 )"
      ]
     },
     "execution_count": 13,
     "metadata": {},
     "output_type": "execute_result"
    }
   ],
   "source": [
    "Y = HomalgRing( ibp )"
   ]
  },
  {
   "cell_type": "code",
   "execution_count": 14,
   "id": "d71b79b3",
   "metadata": {},
   "outputs": [
    {
     "data": {
      "text/plain": [
       "GAP: <A 1 x 1 matrix over an external ring>"
      ]
     },
     "execution_count": 14,
     "metadata": {},
     "output_type": "execute_result"
    }
   ],
   "source": [
    "ibpws = MatrixOfIBPRelationsInWeylAlgebra( LD )"
   ]
  },
  {
   "cell_type": "code",
   "execution_count": 15,
   "id": "6ae6cc5c",
   "metadata": {},
   "outputs": [
    {
     "data": {
      "text/plain": [
       "GAP: -2*m^2*A1+d-2*D1*A1-2"
      ]
     },
     "execution_count": 15,
     "metadata": {},
     "output_type": "execute_result"
    }
   ],
   "source": [
    "ibpw = MatElm( ibpws, 1, 1 )"
   ]
  },
  {
   "cell_type": "code",
   "execution_count": 16,
   "id": "09ac5b30",
   "metadata": {},
   "outputs": [
    {
     "data": {
      "text/plain": [
       "GAP: Q[m,d][D1]<A1>"
      ]
     },
     "execution_count": 16,
     "metadata": {},
     "output_type": "execute_result"
    }
   ],
   "source": [
    "W = HomalgRing( ibpw )"
   ]
  },
  {
   "cell_type": "code",
   "execution_count": 17,
   "id": "a73ca4f5",
   "metadata": {},
   "outputs": [
    {
     "data": {
      "text/plain": [
       "GAP: [ <A 1 x 1 matrix over an external ring>, <A 1 x 1 matrix over an external ring> ]"
      ]
     },
     "execution_count": 17,
     "metadata": {},
     "output_type": "execute_result"
    }
   ],
   "source": [
    "E12 = PairOfMatricesOfLoopDiagramInPropagators( LD )"
   ]
  },
  {
   "cell_type": "code",
   "execution_count": 18,
   "id": "1cc874af",
   "metadata": {},
   "outputs": [
    {
     "name": "stdout",
     "output_type": "stream",
     "text": [
      "2*m^2+2*D1\n"
     ]
    }
   ],
   "source": [
    "Display( E12[1] )"
   ]
  },
  {
   "cell_type": "code",
   "execution_count": 19,
   "id": "572a41f3",
   "metadata": {},
   "outputs": [
    {
     "name": "stdout",
     "output_type": "stream",
     "text": [
      "D1\n"
     ]
    }
   ],
   "source": [
    "Display( E12[2] )"
   ]
  },
  {
   "cell_type": "code",
   "execution_count": 20,
   "id": "b895cfe9",
   "metadata": {},
   "outputs": [
    {
     "data": {
      "text/plain": [
       "GAP: <A non-zero 1 x 1 matrix over an external ring>"
      ]
     },
     "execution_count": 20,
     "metadata": {},
     "output_type": "execute_result"
    }
   ],
   "source": [
    "S = SyzygiesOfColumns( E12 )"
   ]
  },
  {
   "cell_type": "code",
   "execution_count": 21,
   "id": "92ea28d4",
   "metadata": {},
   "outputs": [
    {
     "name": "stdout",
     "output_type": "stream",
     "text": [
      "D1\n"
     ]
    }
   ],
   "source": [
    "Display( S )"
   ]
  },
  {
   "cell_type": "code",
   "execution_count": 22,
   "id": "f4573055",
   "metadata": {},
   "outputs": [
    {
     "data": {
      "text/plain": [
       "GAP: |[ -2*m^2*a1+2*m^2+d*D1-2*a1*D1+2*D1 ]|"
      ]
     },
     "execution_count": 22,
     "metadata": {},
     "output_type": "execute_result"
    }
   ],
   "source": [
    "Sibp = IBPRelation( CertainColumns( S, [ 1 ] ), LD )"
   ]
  },
  {
   "cell_type": "code",
   "execution_count": 23,
   "id": "59c183b9",
   "metadata": {},
   "outputs": [
    {
     "name": "stdout",
     "output_type": "stream",
     "text": [
      "[ [ |[ d-2*a1+2 ]|, |[ D1 ]| ],\n",
      "  [ |[ -2*m^2*a1+2*m^2 ]|, |[ 1 ]| ] ]\n"
     ]
    }
   ],
   "source": [
    "ViewList( DecomposeInMonomials( Sibp ) )"
   ]
  },
  {
   "cell_type": "code",
   "execution_count": 24,
   "id": "dba836c0",
   "metadata": {},
   "outputs": [
    {
     "data": {
      "text/plain": [
       "GAP: <A 1 x 1 matrix over a residue class ring>"
      ]
     },
     "execution_count": 24,
     "metadata": {},
     "output_type": "execute_result"
    }
   ],
   "source": [
    "Sibps = MatrixOfSpecialIBPRelations( LD )"
   ]
  },
  {
   "cell_type": "code",
   "execution_count": 25,
   "id": "2ec92c7e",
   "metadata": {},
   "outputs": [
    {
     "data": {
      "text/plain": [
       "GAP: <An unevaluated 1 x 1 matrix over a residue class ring>"
      ]
     },
     "execution_count": 25,
     "metadata": {},
     "output_type": "execute_result"
    }
   ],
   "source": [
    "x = RightDivide( Sibps, ibps )"
   ]
  },
  {
   "cell_type": "code",
   "execution_count": 26,
   "id": "a9eb18da",
   "metadata": {},
   "outputs": [
    {
     "data": {
      "text/plain": [
       "true"
      ]
     },
     "execution_count": 26,
     "metadata": {},
     "output_type": "execute_result"
    }
   ],
   "source": [
    "x * ibps == Sibps"
   ]
  },
  {
   "cell_type": "code",
   "execution_count": 27,
   "id": "efc1acce",
   "metadata": {},
   "outputs": [
    {
     "name": "stdout",
     "output_type": "stream",
     "text": [
      "D1\n",
      "\n",
      "modulo [ D1*D1_-1 ]\n"
     ]
    }
   ],
   "source": [
    "Display( x )"
   ]
  },
  {
   "cell_type": "code",
   "execution_count": 28,
   "id": "8e1d75f2",
   "metadata": {},
   "outputs": [
    {
     "data": {
      "text/plain": [
       "GAP: <An unevaluated 1 x 1 matrix over a residue class ring>"
      ]
     },
     "execution_count": 28,
     "metadata": {},
     "output_type": "execute_result"
    }
   ],
   "source": [
    "y = RightDivide( ibps, Sibps )"
   ]
  },
  {
   "cell_type": "code",
   "execution_count": 29,
   "id": "b8209abc",
   "metadata": {},
   "outputs": [
    {
     "data": {
      "text/plain": [
       "true"
      ]
     },
     "execution_count": 29,
     "metadata": {},
     "output_type": "execute_result"
    }
   ],
   "source": [
    "y * Sibps == ibps"
   ]
  },
  {
   "cell_type": "code",
   "execution_count": 30,
   "id": "d4e14c8e",
   "metadata": {},
   "outputs": [
    {
     "name": "stdout",
     "output_type": "stream",
     "text": [
      "D1_\n",
      "\n",
      "modulo [ D1*D1_-1 ]\n"
     ]
    }
   ],
   "source": [
    "Display( y )"
   ]
  },
  {
   "cell_type": "code",
   "execution_count": 31,
   "id": "7b3d7cfa",
   "metadata": {},
   "outputs": [
    {
     "data": {
      "text/plain": [
       "GAP: <A non-zero 1 x 1 matrix over a residue class ring>"
      ]
     },
     "execution_count": 31,
     "metadata": {},
     "output_type": "execute_result"
    }
   ],
   "source": [
    "bas = BasisOfIBPRelations( LD )"
   ]
  },
  {
   "cell_type": "code",
   "execution_count": 32,
   "id": "03ef4f1c",
   "metadata": {},
   "outputs": [
    {
     "data": {
      "text/plain": [
       "GAP: <A non-zero 1 x 1 matrix over a residue class ring>"
      ]
     },
     "execution_count": 32,
     "metadata": {},
     "output_type": "execute_result"
    }
   ],
   "source": [
    "Sbas = BasisOfSpecialIBPRelations( LD )"
   ]
  },
  {
   "cell_type": "code",
   "execution_count": 33,
   "id": "5c31183e",
   "metadata": {},
   "outputs": [
    {
     "data": {
      "text/plain": [
       "true"
      ]
     },
     "execution_count": 33,
     "metadata": {},
     "output_type": "execute_result"
    }
   ],
   "source": [
    "Sbas == bas"
   ]
  },
  {
   "cell_type": "code",
   "execution_count": 34,
   "id": "b35efd64",
   "metadata": {},
   "outputs": [
    {
     "data": {
      "text/plain": [
       "GAP: [ |[ m ]|, |[ d ]|, |[ a1 ]|, |[ D1 ]|, |[ D1_ ]| ]"
      ]
     },
     "execution_count": 34,
     "metadata": {},
     "output_type": "execute_result"
    }
   ],
   "source": [
    "ExportVariablesToJulia( Y )"
   ]
  },
  {
   "cell_type": "code",
   "execution_count": 35,
   "id": "3ab165d3",
   "metadata": {},
   "outputs": [
    {
     "data": {
      "text/plain": [
       "GAP: |[ D1_ ]|"
      ]
     },
     "execution_count": 35,
     "metadata": {},
     "output_type": "execute_result"
    }
   ],
   "source": [
    "D1_"
   ]
  },
  {
   "cell_type": "code",
   "execution_count": 36,
   "id": "58fc7d0d",
   "metadata": {},
   "outputs": [
    {
     "data": {
      "text/plain": [
       "GAP: |[ 2*m^2*a1*D1_^3+4*m^2*D1_^3 ]|"
      ]
     },
     "execution_count": 36,
     "metadata": {},
     "output_type": "execute_result"
    }
   ],
   "source": [
    "r = 2 * m^2 * ( a1 + 4 - 2 ) * D1_^(4-1)"
   ]
  },
  {
   "cell_type": "code",
   "execution_count": 37,
   "id": "fc2a10df",
   "metadata": {},
   "outputs": [
    {
     "data": {
      "text/plain": [
       "GAP: |[ d*D1_^2-2*a1*D1_^2-4*D1_^2 ]|"
      ]
     },
     "execution_count": 37,
     "metadata": {},
     "output_type": "execute_result"
    }
   ],
   "source": [
    "n = DecideZero( r, bas )"
   ]
  },
  {
   "cell_type": "code",
   "execution_count": 38,
   "id": "9658f0ef",
   "metadata": {},
   "outputs": [
    {
     "data": {
      "text/plain": [
       "GAP: |[ 0 ]|"
      ]
     },
     "execution_count": 38,
     "metadata": {},
     "output_type": "execute_result"
    }
   ],
   "source": [
    "DecideZero( n - r, bas )"
   ]
  },
  {
   "cell_type": "code",
   "execution_count": 39,
   "id": "63320198",
   "metadata": {},
   "outputs": [
    {
     "data": {
      "text/plain": [
       "GAP: |[ d*D1_^2-2*a1*D1_^2-4*D1_^2 ]|"
      ]
     },
     "execution_count": 39,
     "metadata": {},
     "output_type": "execute_result"
    }
   ],
   "source": [
    "s = D1_^(4 - 2) * ( d - 2 * a1 )"
   ]
  },
  {
   "cell_type": "code",
   "execution_count": 40,
   "id": "42bcd09c",
   "metadata": {},
   "outputs": [
    {
     "data": {
      "text/plain": [
       "true"
      ]
     },
     "execution_count": 40,
     "metadata": {},
     "output_type": "execute_result"
    }
   ],
   "source": [
    "s == n"
   ]
  },
  {
   "cell_type": "code",
   "execution_count": 41,
   "id": "5317e71e",
   "metadata": {},
   "outputs": [
    {
     "data": {
      "text/plain": [
       "GAP: |[ d*D1_^2-2*a1*D1_^2-4*D1_^2 ]|"
      ]
     },
     "execution_count": 41,
     "metadata": {},
     "output_type": "execute_result"
    }
   ],
   "source": [
    "t = ( d - 2 * a1 - 2 * ( 4 - 2 ) ) * D1_^(4-2)"
   ]
  },
  {
   "cell_type": "code",
   "execution_count": 42,
   "id": "ad9c602a",
   "metadata": {},
   "outputs": [
    {
     "data": {
      "text/plain": [
       "true"
      ]
     },
     "execution_count": 42,
     "metadata": {},
     "output_type": "execute_result"
    }
   ],
   "source": [
    "t == n"
   ]
  },
  {
   "cell_type": "code",
   "execution_count": 43,
   "id": "e6484aa5",
   "metadata": {},
   "outputs": [
    {
     "data": {
      "text/plain": [
       "GAP: |[ d*D1_^2-6*D1_^2 ]|"
      ]
     },
     "execution_count": 43,
     "metadata": {},
     "output_type": "execute_result"
    }
   ],
   "source": [
    "w = ( d - 2 * 1 - 2 * ( 4 - 2 ) ) * D1_^(4-2)"
   ]
  },
  {
   "cell_type": "code",
   "execution_count": 44,
   "id": "6430e37a",
   "metadata": {},
   "outputs": [
    {
     "data": {
      "text/plain": [
       "GAP: |[ 2*a1*D1_^2-2*D1_^2 ]|"
      ]
     },
     "execution_count": 44,
     "metadata": {},
     "output_type": "execute_result"
    }
   ],
   "source": [
    "DecideZero( w - r, bas )"
   ]
  }
 ],
 "metadata": {
  "@webio": {
   "lastCommId": null,
   "lastKernelId": null
  },
  "kernelspec": {
   "display_name": "Julia 1.9.3",
   "language": "julia",
   "name": "julia-1.9"
  },
  "language_info": {
   "file_extension": ".jl",
   "mimetype": "application/julia",
   "name": "julia",
   "version": "1.9.3"
  }
 },
 "nbformat": 4,
 "nbformat_minor": 5
}
