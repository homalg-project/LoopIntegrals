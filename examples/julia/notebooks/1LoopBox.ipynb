{
 "cells": [
  {
   "cell_type": "code",
   "execution_count": 1,
   "metadata": {},
   "outputs": [
    {
     "name": "stdout",
     "output_type": "stream",
     "text": [
      "HomalgProject v\u001b[32m0.4.10\u001b[39m\n",
      "Imported OSCAR's components GAP, Nemo, and Singular\n",
      "Type: ?HomalgProject for more information\n"
     ]
    }
   ],
   "source": [
    "using HomalgProject"
   ]
  },
  {
   "cell_type": "code",
   "execution_count": 2,
   "metadata": {},
   "outputs": [],
   "source": [
    "LoadPackage( \"LoopIntegrals\" )"
   ]
  },
  {
   "cell_type": "code",
   "execution_count": 3,
   "metadata": {},
   "outputs": [
    {
     "data": {
      "text/plain": [
       "GAP: <A loop diagram with loop momenta [ l1 ] & external momenta [ k1, k2, k4 ]>"
      ]
     },
     "execution_count": 3,
     "metadata": {},
     "output_type": "execute_result"
    }
   ],
   "source": [
    "LD = LoopDiagram( \"l1\", \"k1..2,k4\" )"
   ]
  },
  {
   "cell_type": "code",
   "execution_count": 4,
   "metadata": {},
   "outputs": [
    {
     "data": {
      "text/plain": [
       "GAP: 2*k1*k2"
      ]
     },
     "execution_count": 4,
     "metadata": {},
     "output_type": "execute_result"
    }
   ],
   "source": [
    "s12 = 2*k1*k2"
   ]
  },
  {
   "cell_type": "code",
   "execution_count": 5,
   "metadata": {},
   "outputs": [],
   "source": [
    "SetAbbreviation( s12, \"s12\" )"
   ]
  },
  {
   "cell_type": "code",
   "execution_count": 6,
   "metadata": {},
   "outputs": [
    {
     "data": {
      "text/plain": [
       "GAP: 2*k1*k4"
      ]
     },
     "execution_count": 6,
     "metadata": {},
     "output_type": "execute_result"
    }
   ],
   "source": [
    "s14 = 2*k1*k4"
   ]
  },
  {
   "cell_type": "code",
   "execution_count": 7,
   "metadata": {},
   "outputs": [],
   "source": [
    "SetAbbreviation( s14, \"s14\" )"
   ]
  },
  {
   "cell_type": "code",
   "execution_count": 8,
   "metadata": {},
   "outputs": [
    {
     "data": {
      "text/plain": [
       "GAP: [ k1^2, k2^2, k4^2 ]"
      ]
     },
     "execution_count": 8,
     "metadata": {},
     "output_type": "execute_result"
    }
   ],
   "source": [
    "rel1 = List( ExternalMomenta( LD ), k -> k^2 )"
   ]
  },
  {
   "cell_type": "code",
   "execution_count": 9,
   "metadata": {},
   "outputs": [],
   "source": [
    "rel2 = @gap([ (k1+k2+k4)^2 ]);"
   ]
  },
  {
   "cell_type": "code",
   "execution_count": 10,
   "metadata": {},
   "outputs": [],
   "source": [
    "SetRelationsOfMomenta( LD, Concatenation( rel1, rel2 ) )"
   ]
  },
  {
   "cell_type": "code",
   "execution_count": 11,
   "metadata": {},
   "outputs": [],
   "source": [
    "SetIndependentLorentzInvariants( LD, [ l1^2, l1*k1, l1*k2, l1*k4, s12, s14 ] )"
   ]
  },
  {
   "cell_type": "code",
   "execution_count": 12,
   "metadata": {},
   "outputs": [],
   "source": [
    "SetPropagators( LD, -[ l1^2, (l1-k1)^2, (l1-k1-k2)^2, (l1+k4)^2 ] )"
   ]
  },
  {
   "cell_type": "code",
   "execution_count": 13,
   "metadata": {},
   "outputs": [],
   "source": [
    "SetNumerators( LD, -[ ] )"
   ]
  },
  {
   "cell_type": "code",
   "execution_count": 14,
   "metadata": {},
   "outputs": [],
   "source": [
    "SetExtraLorentzInvariants( LD, [ s12, s14 ] )"
   ]
  },
  {
   "cell_type": "code",
   "execution_count": 15,
   "metadata": {},
   "outputs": [
    {
     "data": {
      "text/plain": [
       "GAP: Q[D,s12,s14][D1,D2,D3,D4]"
      ]
     },
     "execution_count": 15,
     "metadata": {},
     "output_type": "execute_result"
    }
   ],
   "source": [
    "R = RingOfLoopDiagram( LD )"
   ]
  },
  {
   "cell_type": "code",
   "execution_count": 16,
   "metadata": {},
   "outputs": [
    {
     "name": "stdout",
     "output_type": "stream",
     "text": [
      "================================================================\n",
      "                     SINGULAR::PLURAL\n",
      "The SINGULAR Subsystem for Non-commutative Polynomial Computations\n",
      "     by: G.-M. Greuel, V. Levandovskyy, H. Schoenemann\n",
      "FB Mathematik der Universitaet, D-67653 Kaiserslautern\u001b[0m\n",
      "================================================================\n"
     ]
    },
    {
     "data": {
      "text/plain": [
       "GAP: <A 4 x 1 matrix over a residue class ring>"
      ]
     },
     "execution_count": 16,
     "metadata": {},
     "output_type": "execute_result"
    }
   ],
   "source": [
    "ibps = MatrixOfIBPRelations( LD )"
   ]
  },
  {
   "cell_type": "code",
   "execution_count": 17,
   "metadata": {
    "scrolled": true
   },
   "outputs": [
    {
     "data": {
      "text/plain": [
       "GAP: |[ -a2*D1*D2_-s12*a3*D3_-a3*D1*D3_-a4*D1*D4_+D-2*a1-a2-a3-a4 ]|"
      ]
     },
     "execution_count": 17,
     "metadata": {},
     "output_type": "execute_result"
    }
   ],
   "source": [
    "ibp1 = MatElm( ibps, 1, 1 )"
   ]
  },
  {
   "cell_type": "code",
   "execution_count": 18,
   "metadata": {},
   "outputs": [
    {
     "name": "stdout",
     "output_type": "stream",
     "text": [
      "[ [ |[ -a2 ]|, |[ D1*D2_ ]| ],\n",
      "  [ |[ -a3 ]|, |[ D1*D3_ ]| ],\n",
      "  [ |[ -a4 ]|, |[ D1*D4_ ]| ],\n",
      "  [ |[ -s12*a3 ]|, |[ D3_ ]| ],\n",
      "  [ |[ D-2*a1-a2-a3-a4 ]|, |[ 1 ]| ] ]\n"
     ]
    }
   ],
   "source": [
    "ViewList( DecomposeInMonomials( ibp1 ) )"
   ]
  },
  {
   "cell_type": "code",
   "execution_count": 19,
   "metadata": {},
   "outputs": [
    {
     "data": {
      "text/plain": [
       "GAP: Q[D,s12,s14][a1,a2,a3,a4]<D1,D1_,D2,D2_,D3,D3_,D4,D4_>/( D1*D1_-1, D2*D2_-1, D\\\n",
       "3*D3_-1, D4*D4_-1 )"
      ]
     },
     "execution_count": 19,
     "metadata": {},
     "output_type": "execute_result"
    }
   ],
   "source": [
    "Y = HomalgRing( ibp1 )"
   ]
  },
  {
   "cell_type": "code",
   "execution_count": 20,
   "metadata": {},
   "outputs": [
    {
     "data": {
      "text/plain": [
       "GAP: [ <A 4 x 4 matrix over an external ring>, \n",
       "  <A 4 x 4 matrix over an external ring> ]"
      ]
     },
     "execution_count": 20,
     "metadata": {},
     "output_type": "execute_result"
    }
   ],
   "source": [
    "E12 = PairOfMatricesOfLoopDiagramInPropagators( LD )"
   ]
  },
  {
   "cell_type": "code",
   "execution_count": 21,
   "metadata": {},
   "outputs": [
    {
     "name": "stdout",
     "output_type": "stream",
     "text": [
      "2*D1,      D1+D2,    s12+D1+D3, D1+D4,     \n",
      "D1-D2,     D1-D2,    s12+D1-D2, -s14+D1-D2,\n",
      "-s12+D2-D3,D2-D3,    D2-D3,     s14+D2-D3, \n",
      "-D1+D4,    s14-D1+D4,-s12-D1+D4,-D1+D4     \n",
      "\n"
     ]
    }
   ],
   "source": [
    "Display( E12[1] )"
   ]
  },
  {
   "cell_type": "code",
   "execution_count": 22,
   "metadata": {},
   "outputs": [
    {
     "data": {
      "text/plain": [
       "GAP: <A non-zero 12 x 4 matrix over an external ring>"
      ]
     },
     "execution_count": 22,
     "metadata": {},
     "output_type": "execute_result"
    }
   ],
   "source": [
    "S = SyzygiesOfRows( E12 )"
   ]
  },
  {
   "cell_type": "code",
   "execution_count": 23,
   "metadata": {},
   "outputs": [
    {
     "data": {
      "text/plain": [
       "GAP: <A non-zero 6 x 4 matrix over an external ring>"
      ]
     },
     "execution_count": 23,
     "metadata": {},
     "output_type": "execute_result"
    }
   ],
   "source": [
    "Sred = ReducedBasisOfRowModule( S )"
   ]
  },
  {
   "cell_type": "code",
   "execution_count": 24,
   "metadata": {},
   "outputs": [
    {
     "name": "stdout",
     "output_type": "stream",
     "text": [
      "D2-D4,                D4,                        0,          D2,          \n",
      "D1-D3,                -D1,                       -D1,        0,           \n",
      "s12*D4+2*D3*D4-2*D4^2,-s12*D4+D2*D4-D3*D4+2*D4^2,D1*D4+D2*D4,2*D2*D4,     \n",
      "s14*D3-2*D3^2+2*D3*D4,-D1*D3-D3*D4,              -2*D1*D3,   -D1*D3-D2*D3,\n",
      "-D3*D4^2,             D3*D4^2,                   0,          D2*D3*D4,    \n",
      "D3^2*D4,              0,                         D1*D3*D4,   0            \n",
      "\n"
     ]
    }
   ],
   "source": [
    "Display( Sred )"
   ]
  },
  {
   "cell_type": "code",
   "execution_count": 25,
   "metadata": {},
   "outputs": [
    {
     "name": "stdout",
     "output_type": "stream",
     "text": [
      "[ [ D2-D4, D4, 0, D2 ], [ D1-D3, -D1, -D1, 0 ], \n",
      "  [ s12*D4+2*D3*D4-2*D4^2, -s12*D4+D2*D4-D3*D4+2*D4^2, D1*D4+D2*D4, 2*D2*D4 ] \n",
      " ]\n"
     ]
    }
   ],
   "source": [
    "Display( EntriesOfHomalgMatrixAsListList( CertainRows( Sred, Array( 1:3 ) ) ) )"
   ]
  },
  {
   "cell_type": "code",
   "execution_count": 26,
   "metadata": {},
   "outputs": [
    {
     "data": {
      "text/plain": [
       "GAP: |[ -s14*a2+s14*a4+D*D2-a1*D2-a2*D2-a3*D2-a4*D2-D*D4+a1*D4+a2*D4+a3*D4+a4*D4 ]|"
      ]
     },
     "execution_count": 26,
     "metadata": {},
     "output_type": "execute_result"
    }
   ],
   "source": [
    "Sibp1 = IBPRelation( Sred[1], LD )"
   ]
  },
  {
   "cell_type": "code",
   "execution_count": 27,
   "metadata": {},
   "outputs": [
    {
     "name": "stdout",
     "output_type": "stream",
     "text": [
      "[ [ |[ D-a1-a2-a3-a4 ]|, |[ D2 ]| ],\n",
      "  [ |[ -D+a1+a2+a3+a4 ]|, |[ D4 ]| ],\n",
      "  [ |[ -s14*a2+s14*a4 ]|, |[ 1 ]| ] ]\n"
     ]
    }
   ],
   "source": [
    "ViewList( DecomposeInMonomials( Sibp1 ) )"
   ]
  },
  {
   "cell_type": "code",
   "execution_count": 28,
   "metadata": {},
   "outputs": [
    {
     "data": {
      "text/plain": [
       "GAP: |[ D*D2-D*D4-4*D2+4*D4 ]|"
      ]
     },
     "execution_count": 28,
     "metadata": {},
     "output_type": "execute_result"
    }
   ],
   "source": [
    "sibp1 = IBPRelation( Sred[1], LD, [ 1, 1, 1, 1 ] )"
   ]
  },
  {
   "cell_type": "code",
   "execution_count": 29,
   "metadata": {},
   "outputs": [
    {
     "name": "stdout",
     "output_type": "stream",
     "text": [
      "[ [ |[ D-4 ]|, |[ D2 ]| ],\n",
      "  [ |[ -D+4 ]|, |[ D4 ]| ] ]\n"
     ]
    }
   ],
   "source": [
    "ViewList( DecomposeInMonomials( sibp1 ) )"
   ]
  },
  {
   "cell_type": "code",
   "execution_count": 30,
   "metadata": {},
   "outputs": [
    {
     "data": {
      "text/plain": [
       "GAP: |[ -s12*a1+s12*a3+D*D1-a1*D1-a2*D1-a3*D1-a4*D1-D*D3+a1*D3+a2*D3+a3*D3+a4*D3 ]|"
      ]
     },
     "execution_count": 30,
     "metadata": {},
     "output_type": "execute_result"
    }
   ],
   "source": [
    "Sibp2 = IBPRelation( Sred[2], LD )"
   ]
  },
  {
   "cell_type": "code",
   "execution_count": 31,
   "metadata": {},
   "outputs": [
    {
     "name": "stdout",
     "output_type": "stream",
     "text": [
      "[ [ |[ D-a1-a2-a3-a4 ]|, |[ D1 ]| ],\n",
      "  [ |[ -D+a1+a2+a3+a4 ]|, |[ D3 ]| ],\n",
      "  [ |[ -s12*a1+s12*a3 ]|, |[ 1 ]| ] ]\n"
     ]
    }
   ],
   "source": [
    "ViewList( DecomposeInMonomials( Sibp2 ) )"
   ]
  },
  {
   "cell_type": "code",
   "execution_count": 32,
   "metadata": {},
   "outputs": [
    {
     "data": {
      "text/plain": [
       "GAP: |[ D*D1-D*D3-4*D1+4*D3 ]|"
      ]
     },
     "execution_count": 32,
     "metadata": {},
     "output_type": "execute_result"
    }
   ],
   "source": [
    "sibp2 = IBPRelation( Sred[2], LD, [ 1, 1, 1, 1 ] )"
   ]
  },
  {
   "cell_type": "code",
   "execution_count": 33,
   "metadata": {},
   "outputs": [
    {
     "name": "stdout",
     "output_type": "stream",
     "text": [
      "[ [ |[ D-4 ]|, |[ D1 ]| ],\n",
      "  [ |[ -D+4 ]|, |[ D3 ]| ] ]\n"
     ]
    }
   ],
   "source": [
    "ViewList( DecomposeInMonomials( sibp2 ) )"
   ]
  },
  {
   "cell_type": "code",
   "execution_count": 34,
   "metadata": {},
   "outputs": [
    {
     "data": {
      "text/plain": [
       "GAP: |[ -s12*s14*a4-s14*a4*D1-s12*a4*D2-s14*a4*D3+D*s12*D4-2*s12*a2*D4-2*s14*a2*D4-\\\n",
       "2*s12*a3*D4-s12*a4*D4+2*s14*a4*D4+2*D*D3*D4-2*a1*D3*D4-2*a2*D3*D4-2*a3*D3*D4-2\\\n",
       "*a4*D3*D4-2*D*D4^2+2*a1*D4^2+2*a2*D4^2+2*a3*D4^2+2*a4*D4^2+s12*s14+s14*D1+s12*\\\n",
       "D2+s14*D3+s12*D4-2*s14*D4+2*D3*D4-2*D4^2 ]|"
      ]
     },
     "execution_count": 34,
     "metadata": {},
     "output_type": "execute_result"
    }
   ],
   "source": [
    "Sibp3 = IBPRelation( Sred[3], LD )"
   ]
  },
  {
   "cell_type": "code",
   "execution_count": 35,
   "metadata": {},
   "outputs": [
    {
     "name": "stdout",
     "output_type": "stream",
     "text": [
      "[ [ |[ 2*D-2*a1-2*a2-2*a3-2*a4+2 ]|, |[ D3*D4 ]| ],\n",
      "  [ |[ -2*D+2*a1+2*a2+2*a3+2*a4-2 ]|, |[ D4^2 ]| ],\n",
      "  [ |[ -s14*a4+s14 ]|, |[ D1 ]| ],\n",
      "  [ |[ -s12*a4+s12 ]|, |[ D2 ]| ],\n",
      "  [ |[ -s14*a4+s14 ]|, |[ D3 ]| ],\n",
      "  [ |[ D*s12-2*s12*a2-2*s14*a2-2*s12*a3-s12*a4+2*s14*a4+s12-2*s14 ]|, \n",
      "  |[ D4 ]| ],\n",
      "  [ |[ -s12*s14*a4+s12*s14 ]|, |[ 1 ]| ] ]\n"
     ]
    }
   ],
   "source": [
    "ViewList( DecomposeInMonomials( Sibp3 ) )"
   ]
  },
  {
   "cell_type": "code",
   "execution_count": 36,
   "metadata": {},
   "outputs": [
    {
     "data": {
      "text/plain": [
       "GAP: |[ D*s12*D4+2*D*D3*D4-2*D*D4^2-4*s12*D4-2*s14*D4-6*D3*D4+6*D4^2 ]|"
      ]
     },
     "execution_count": 36,
     "metadata": {},
     "output_type": "execute_result"
    }
   ],
   "source": [
    "sibp3 = IBPRelation( Sred[3], LD, [ 1, 1, 1, 1 ] )"
   ]
  },
  {
   "cell_type": "code",
   "execution_count": 37,
   "metadata": {},
   "outputs": [
    {
     "name": "stdout",
     "output_type": "stream",
     "text": [
      "[ [ |[ D-4 ]|, |[ D1 ]| ],\n",
      "  [ |[ -D+4 ]|, |[ D3 ]| ] ]\n"
     ]
    }
   ],
   "source": [
    "ViewList( DecomposeInMonomials( sibp2 ) )"
   ]
  },
  {
   "cell_type": "code",
   "execution_count": 38,
   "metadata": {},
   "outputs": [
    {
     "data": {
      "text/plain": [
       "GAP: <A non-zero 28 x 1 matrix over a residue class ring>"
      ]
     },
     "execution_count": 38,
     "metadata": {},
     "output_type": "execute_result"
    }
   ],
   "source": [
    "bas = BasisOfIBPRelations( LD )"
   ]
  },
  {
   "cell_type": "code",
   "execution_count": 39,
   "metadata": {},
   "outputs": [
    {
     "data": {
      "text/plain": [
       "GAP: <A non-zero 28 x 1 matrix over a residue class ring>"
      ]
     },
     "execution_count": 39,
     "metadata": {},
     "output_type": "execute_result"
    }
   ],
   "source": [
    "Sbas = BasisOfSpecialIBPRelations( LD )"
   ]
  },
  {
   "cell_type": "code",
   "execution_count": 40,
   "metadata": {},
   "outputs": [
    {
     "data": {
      "text/plain": [
       "true"
      ]
     },
     "execution_count": 40,
     "metadata": {},
     "output_type": "execute_result"
    }
   ],
   "source": [
    "bas == Sbas"
   ]
  }
 ],
 "metadata": {
  "@webio": {
   "lastCommId": null,
   "lastKernelId": null
  },
  "kernelspec": {
   "display_name": "Julia 1.4.1",
   "language": "julia",
   "name": "julia-1.4"
  },
  "language_info": {
   "file_extension": ".jl",
   "mimetype": "application/julia",
   "name": "julia",
   "version": "1.4.1"
  }
 },
 "nbformat": 4,
 "nbformat_minor": 2
}
