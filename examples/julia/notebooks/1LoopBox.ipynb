{
 "cells": [
  {
   "cell_type": "code",
   "execution_count": 1,
   "metadata": {},
   "outputs": [
    {
     "name": "stdout",
     "output_type": "stream",
     "text": [
      "CapAndHomalg v\u001b[32m1.4.7\u001b[39m\n",
      "Imported OSCAR's components GAP and Singular_jll\n",
      "Type: ?CapAndHomalg for more information\n"
     ]
    }
   ],
   "source": [
    "using CapAndHomalg"
   ]
  },
  {
   "cell_type": "code",
   "execution_count": 2,
   "metadata": {},
   "outputs": [],
   "source": [
    "LoadPackage( \"LoopIntegrals\" )"
   ]
  },
  {
   "cell_type": "code",
   "execution_count": 3,
   "metadata": {},
   "outputs": [
    {
     "data": {
      "text/plain": [
       "GAP: <A loop diagram with loop momenta [ l1 ] & external momenta [ k1, k2, k4 ]>"
      ]
     },
     "execution_count": 3,
     "metadata": {},
     "output_type": "execute_result"
    }
   ],
   "source": [
    "LD = LoopDiagram( \"l1\", \"k1..2,k4\" )"
   ]
  },
  {
   "cell_type": "code",
   "execution_count": 4,
   "metadata": {},
   "outputs": [
    {
     "data": {
      "text/plain": [
       "GAP: 2*k1*k2"
      ]
     },
     "execution_count": 4,
     "metadata": {},
     "output_type": "execute_result"
    }
   ],
   "source": [
    "s12 = 2*k1*k2"
   ]
  },
  {
   "cell_type": "code",
   "execution_count": 5,
   "metadata": {},
   "outputs": [],
   "source": [
    "SetAbbreviation( s12, \"s12\" )"
   ]
  },
  {
   "cell_type": "code",
   "execution_count": 6,
   "metadata": {},
   "outputs": [
    {
     "data": {
      "text/plain": [
       "GAP: 2*k1*k4"
      ]
     },
     "execution_count": 6,
     "metadata": {},
     "output_type": "execute_result"
    }
   ],
   "source": [
    "s14 = 2*k1*k4"
   ]
  },
  {
   "cell_type": "code",
   "execution_count": 7,
   "metadata": {},
   "outputs": [],
   "source": [
    "SetAbbreviation( s14, \"s14\" )"
   ]
  },
  {
   "cell_type": "code",
   "execution_count": 8,
   "metadata": {},
   "outputs": [
    {
     "data": {
      "text/plain": [
       "GAP: [ k1^2, k2^2, k4^2 ]"
      ]
     },
     "execution_count": 8,
     "metadata": {},
     "output_type": "execute_result"
    }
   ],
   "source": [
    "rel1 = List( ExternalMomenta( LD ), k -> k^2 )"
   ]
  },
  {
   "cell_type": "code",
   "execution_count": 9,
   "metadata": {},
   "outputs": [],
   "source": [
    "rel2 = @gap([ (k1+k2+k4)^2 ]);"
   ]
  },
  {
   "cell_type": "code",
   "execution_count": 10,
   "metadata": {},
   "outputs": [],
   "source": [
    "SetRelationsOfExternalMomenta( LD, Concatenation( rel1, rel2 ) )"
   ]
  },
  {
   "cell_type": "code",
   "execution_count": 11,
   "metadata": {},
   "outputs": [],
   "source": [
    "SetIndependentLorentzInvariants( LD, [ l1^2, l1*k1, l1*k2, l1*k4, s12, s14 ] )"
   ]
  },
  {
   "cell_type": "code",
   "execution_count": 12,
   "metadata": {},
   "outputs": [],
   "source": [
    "SetPropagators( LD, -[ l1^2, (l1-k1)^2, (l1-k1-k2)^2, (l1+k4)^2 ] )"
   ]
  },
  {
   "cell_type": "code",
   "execution_count": 13,
   "metadata": {},
   "outputs": [],
   "source": [
    "SetNumerators( LD, -[ ] )"
   ]
  },
  {
   "cell_type": "code",
   "execution_count": 14,
   "metadata": {},
   "outputs": [],
   "source": [
    "SetExtraLorentzInvariants( LD, [ s12, s14 ] )"
   ]
  },
  {
   "cell_type": "code",
   "execution_count": 15,
   "metadata": {},
   "outputs": [
    {
     "data": {
      "text/plain": [
       "GAP: Q[d,s12,s14][D1,D2,D3,D4]"
      ]
     },
     "execution_count": 15,
     "metadata": {},
     "output_type": "execute_result"
    }
   ],
   "source": [
    "R = RingOfLoopDiagram( LD )"
   ]
  },
  {
   "cell_type": "code",
   "execution_count": 16,
   "metadata": {},
   "outputs": [
    {
     "data": {
      "text/plain": [
       "GAP: <A 4 x 1 matrix over a residue class ring>"
      ]
     },
     "execution_count": 16,
     "metadata": {},
     "output_type": "execute_result"
    }
   ],
   "source": [
    "ibps = MatrixOfIBPRelations( LD )"
   ]
  },
  {
   "cell_type": "code",
   "execution_count": 17,
   "metadata": {
    "scrolled": true
   },
   "outputs": [
    {
     "data": {
      "text/plain": [
       "GAP: |[ -a2*D1*D2_-s12*a3*D3_-a3*D1*D3_-a4*D1*D4_+d-2*a1-a2-a3-a4 ]|"
      ]
     },
     "execution_count": 17,
     "metadata": {},
     "output_type": "execute_result"
    }
   ],
   "source": [
    "ibp1 = MatElm( ibps, 1, 1 )"
   ]
  },
  {
   "cell_type": "code",
   "execution_count": 18,
   "metadata": {},
   "outputs": [
    {
     "name": "stdout",
     "output_type": "stream",
     "text": [
      "[ [ |[ -a2 ]|, |[ D1*D2_ ]| ],\n",
      "  [ |[ -a3 ]|, |[ D1*D3_ ]| ],\n",
      "  [ |[ -a4 ]|, |[ D1*D4_ ]| ],\n",
      "  [ |[ -s12*a3 ]|, |[ D3_ ]| ],\n",
      "  [ |[ d-2*a1-a2-a3-a4 ]|, |[ 1 ]| ] ]\n"
     ]
    }
   ],
   "source": [
    "ViewList( DecomposeInMonomials( ibp1 ) )"
   ]
  },
  {
   "cell_type": "code",
   "execution_count": 19,
   "metadata": {},
   "outputs": [
    {
     "data": {
      "text/plain": [
       "GAP: Q[d,s12,s14][a1,a2,a3,a4]<D1,D1_,D2,D2_,D3,D3_,D4,D4_>/( D4*D4_-1, D3*D3_-1, D2*D2_-1, D1*D1_-1 )"
      ]
     },
     "execution_count": 19,
     "metadata": {},
     "output_type": "execute_result"
    }
   ],
   "source": [
    "Y = HomalgRing( ibp1 )"
   ]
  },
  {
   "cell_type": "code",
   "execution_count": 20,
   "metadata": {},
   "outputs": [
    {
     "data": {
      "text/plain": [
       "GAP: [ <A 4 x 4 matrix over an external ring>, <A 4 x 4 matrix over an external ring> ]"
      ]
     },
     "execution_count": 20,
     "metadata": {},
     "output_type": "execute_result"
    }
   ],
   "source": [
    "E12 = PairOfMatricesOfLoopDiagramInPropagators( LD )"
   ]
  },
  {
   "cell_type": "code",
   "execution_count": 21,
   "metadata": {},
   "outputs": [
    {
     "name": "stdout",
     "output_type": "stream",
     "text": [
      "2*D1,     D1-D2,     -s12+D2-D3,-D1+D4,    \n",
      "D1+D2,    D1-D2,     D2-D3,     s14-D1+D4, \n",
      "s12+D1+D3,s12+D1-D2, D2-D3,     -s12-D1+D4,\n",
      "D1+D4,    -s14+D1-D2,s14+D2-D3, -D1+D4     \n"
     ]
    }
   ],
   "source": [
    "Display( E12[1] )"
   ]
  },
  {
   "cell_type": "code",
   "execution_count": 22,
   "metadata": {},
   "outputs": [
    {
     "data": {
      "text/plain": [
       "GAP: <A non-zero 4 x 12 matrix over an external ring>"
      ]
     },
     "execution_count": 22,
     "metadata": {},
     "output_type": "execute_result"
    }
   ],
   "source": [
    "S = SyzygiesOfColumns( E12 )"
   ]
  },
  {
   "cell_type": "code",
   "execution_count": 23,
   "metadata": {},
   "outputs": [
    {
     "data": {
      "text/plain": [
       "GAP: <A non-zero 4 x 6 matrix over an external ring>"
      ]
     },
     "execution_count": 23,
     "metadata": {},
     "output_type": "execute_result"
    }
   ],
   "source": [
    "Sred = ReducedBasisOfColumnModule( S )"
   ]
  },
  {
   "cell_type": "code",
   "execution_count": 24,
   "metadata": {},
   "outputs": [
    {
     "name": "stdout",
     "output_type": "stream",
     "text": [
      "D2-D4,D1-D3,s12*D4+2*D3*D4-2*D4^2,     s14*D3-2*D3^2+2*D3*D4,-D3*D4^2,D3^2*D4, \n",
      "D4,   -D1,  -s12*D4+D2*D4-D3*D4+2*D4^2,-D1*D3-D3*D4,         D3*D4^2, 0,       \n",
      "0,    -D1,  D1*D4+D2*D4,               -2*D1*D3,             0,       D1*D3*D4,\n",
      "D2,   0,    2*D2*D4,                   -D1*D3-D2*D3,         D2*D3*D4,0        \n"
     ]
    }
   ],
   "source": [
    "Display( Sred )"
   ]
  },
  {
   "cell_type": "code",
   "execution_count": 25,
   "metadata": {},
   "outputs": [
    {
     "name": "stdout",
     "output_type": "stream",
     "text": [
      "[ [ D2-D4, D1-D3, s12*D4+2*D3*D4-2*D4^2 ], [ D4, -D1, -s12*D4+D2*D4-D3*D4+2*D4^2 ], [ 0, -D1, D1*D4+D2*D4 ], [ D2, 0, 2*D2*D4 ] ]\n"
     ]
    }
   ],
   "source": [
    "Display( EntriesOfHomalgMatrixAsListList( CertainColumns( Sred, Array( 1:3 ) ) ) )"
   ]
  },
  {
   "cell_type": "code",
   "execution_count": 26,
   "metadata": {},
   "outputs": [
    {
     "data": {
      "text/plain": [
       "GAP: |[ -s14*a2+s14*a4+d*D2-a1*D2-a2*D2-a3*D2-a4*D2-d*D4+a1*D4+a2*D4+a3*D4+a4*D4 ]|"
      ]
     },
     "execution_count": 26,
     "metadata": {},
     "output_type": "execute_result"
    }
   ],
   "source": [
    "Sibp1 = IBPRelation( CertainColumns( Sred, [ 1 ] ), LD )"
   ]
  },
  {
   "cell_type": "code",
   "execution_count": 27,
   "metadata": {},
   "outputs": [
    {
     "name": "stdout",
     "output_type": "stream",
     "text": [
      "[ [ |[ d-a1-a2-a3-a4 ]|, |[ D2 ]| ],\n",
      "  [ |[ -d+a1+a2+a3+a4 ]|, |[ D4 ]| ],\n",
      "  [ |[ -s14*a2+s14*a4 ]|, |[ 1 ]| ] ]\n"
     ]
    }
   ],
   "source": [
    "ViewList( DecomposeInMonomials( Sibp1 ) )"
   ]
  },
  {
   "cell_type": "code",
   "execution_count": 28,
   "metadata": {},
   "outputs": [
    {
     "data": {
      "text/plain": [
       "GAP: |[ d*D2-d*D4-4*D2+4*D4 ]|"
      ]
     },
     "execution_count": 28,
     "metadata": {},
     "output_type": "execute_result"
    }
   ],
   "source": [
    "sibp1 = IBPRelation( CertainColumns( Sred, [ 1 ] ), LD, [ 1, 1, 1, 1 ] )"
   ]
  },
  {
   "cell_type": "code",
   "execution_count": 29,
   "metadata": {},
   "outputs": [
    {
     "name": "stdout",
     "output_type": "stream",
     "text": [
      "[ [ |[ d-4 ]|, |[ D2 ]| ],\n",
      "  [ |[ -d+4 ]|, |[ D4 ]| ] ]\n"
     ]
    }
   ],
   "source": [
    "ViewList( DecomposeInMonomials( sibp1 ) )"
   ]
  },
  {
   "cell_type": "code",
   "execution_count": 30,
   "metadata": {},
   "outputs": [
    {
     "data": {
      "text/plain": [
       "GAP: |[ -s12*a1+s12*a3+d*D1-a1*D1-a2*D1-a3*D1-a4*D1-d*D3+a1*D3+a2*D3+a3*D3+a4*D3 ]|"
      ]
     },
     "execution_count": 30,
     "metadata": {},
     "output_type": "execute_result"
    }
   ],
   "source": [
    "Sibp2 = IBPRelation( CertainColumns( Sred, [ 2 ] ), LD )"
   ]
  },
  {
   "cell_type": "code",
   "execution_count": 31,
   "metadata": {},
   "outputs": [
    {
     "name": "stdout",
     "output_type": "stream",
     "text": [
      "[ [ |[ d-a1-a2-a3-a4 ]|, |[ D1 ]| ],\n",
      "  [ |[ -d+a1+a2+a3+a4 ]|, |[ D3 ]| ],\n",
      "  [ |[ -s12*a1+s12*a3 ]|, |[ 1 ]| ] ]\n"
     ]
    }
   ],
   "source": [
    "ViewList( DecomposeInMonomials( Sibp2 ) )"
   ]
  },
  {
   "cell_type": "code",
   "execution_count": 32,
   "metadata": {},
   "outputs": [
    {
     "data": {
      "text/plain": [
       "GAP: |[ d*D1-d*D3-4*D1+4*D3 ]|"
      ]
     },
     "execution_count": 32,
     "metadata": {},
     "output_type": "execute_result"
    }
   ],
   "source": [
    "sibp2 = IBPRelation( CertainColumns( Sred, [ 2 ] ), LD, [ 1, 1, 1, 1 ] )"
   ]
  },
  {
   "cell_type": "code",
   "execution_count": 33,
   "metadata": {},
   "outputs": [
    {
     "name": "stdout",
     "output_type": "stream",
     "text": [
      "[ [ |[ d-4 ]|, |[ D1 ]| ],\n",
      "  [ |[ -d+4 ]|, |[ D3 ]| ] ]\n"
     ]
    }
   ],
   "source": [
    "ViewList( DecomposeInMonomials( sibp2 ) )"
   ]
  },
  {
   "cell_type": "code",
   "execution_count": 34,
   "metadata": {},
   "outputs": [
    {
     "data": {
      "text/plain": [
       "GAP: |[ -s12*s14*a4-s14*a4*D1-s12*a4*D2-s14*a4*D3+d*s12*D4-2*s12*a2*D4-2*s14*a2*D4-2*s12*a3*D4-s12*a4*D4+2*s14*a4*D4+2*d*D3*D4-2*a1*D3*D4-2*a2*D3*D4-2*a3*D3*D4-2*a4*D3*D4-2*d*D4^2+2*a1*D4^2+2*a2*D4^2+2*a3*D4^2+2*a4*D4^2+s12*s14+s14*D1+s12*D2+s14*D3+s12*D4-2*s14*D4+2*D3*D4-2*D4^2 ]|"
      ]
     },
     "execution_count": 34,
     "metadata": {},
     "output_type": "execute_result"
    }
   ],
   "source": [
    "Sibp3 = IBPRelation( CertainColumns( Sred, [ 3 ] ), LD )"
   ]
  },
  {
   "cell_type": "code",
   "execution_count": 35,
   "metadata": {},
   "outputs": [
    {
     "name": "stdout",
     "output_type": "stream",
     "text": [
      "[ [ |[ 2*d-2*a1-2*a2-2*a3-2*a4+2 ]|, |[ D3*D4 ]| ],\n",
      "  [ |[ -2*d+2*a1+2*a2+2*a3+2*a4-2 ]|, |[ D4^2 ]| ],\n",
      "  [ |[ -s14*a4+s14 ]|, |[ D1 ]| ],\n",
      "  [ |[ -s12*a4+s12 ]|, |[ D2 ]| ],\n",
      "  [ |[ -s14*a4+s14 ]|, |[ D3 ]| ],\n",
      "  [ |[ d*s12-2*s12*a2-2*s14*a2-2*s12*a3-s12*a4+2*s14*a4+s12-2*s14 ]|, \n",
      "  |[ D4 ]| ],\n",
      "  [ |[ -s12*s14*a4+s12*s14 ]|, |[ 1 ]| ] ]\n"
     ]
    }
   ],
   "source": [
    "ViewList( DecomposeInMonomials( Sibp3 ) )"
   ]
  },
  {
   "cell_type": "code",
   "execution_count": 36,
   "metadata": {},
   "outputs": [
    {
     "data": {
      "text/plain": [
       "GAP: |[ d*s12*D4+2*d*D3*D4-2*d*D4^2-4*s12*D4-2*s14*D4-6*D3*D4+6*D4^2 ]|"
      ]
     },
     "execution_count": 36,
     "metadata": {},
     "output_type": "execute_result"
    }
   ],
   "source": [
    "sibp3 = IBPRelation( CertainColumns( Sred, [ 3 ] ), LD, [ 1, 1, 1, 1 ] )"
   ]
  },
  {
   "cell_type": "code",
   "execution_count": 37,
   "metadata": {},
   "outputs": [
    {
     "name": "stdout",
     "output_type": "stream",
     "text": [
      "[ [ |[ d-4 ]|, |[ D1 ]| ],\n",
      "  [ |[ -d+4 ]|, |[ D3 ]| ] ]\n"
     ]
    }
   ],
   "source": [
    "ViewList( DecomposeInMonomials( sibp2 ) )"
   ]
  },
  {
   "cell_type": "code",
   "execution_count": 38,
   "metadata": {},
   "outputs": [
    {
     "data": {
      "text/plain": [
       "GAP: <A non-zero 28 x 1 matrix over a residue class ring>"
      ]
     },
     "execution_count": 38,
     "metadata": {},
     "output_type": "execute_result"
    }
   ],
   "source": [
    "bas = BasisOfIBPRelations( LD )"
   ]
  },
  {
   "cell_type": "code",
   "execution_count": 39,
   "metadata": {},
   "outputs": [
    {
     "data": {
      "text/plain": [
       "GAP: <A non-zero 28 x 1 matrix over a residue class ring>"
      ]
     },
     "execution_count": 39,
     "metadata": {},
     "output_type": "execute_result"
    }
   ],
   "source": [
    "Sbas = BasisOfSpecialIBPRelations( LD )"
   ]
  },
  {
   "cell_type": "code",
   "execution_count": 40,
   "metadata": {},
   "outputs": [
    {
     "data": {
      "text/plain": [
       "true"
      ]
     },
     "execution_count": 40,
     "metadata": {},
     "output_type": "execute_result"
    }
   ],
   "source": [
    "bas == Sbas"
   ]
  },
  {
   "cell_type": "code",
   "execution_count": 41,
   "metadata": {},
   "outputs": [
    {
     "data": {
      "text/plain": [
       "GAP: [ z1+z2+z3+z4, -s12*z1*z3-s14*z2*z4 ]"
      ]
     },
     "execution_count": 41,
     "metadata": {},
     "output_type": "execute_result"
    }
   ],
   "source": [
    "SymanzikPolynomials( LD )"
   ]
  },
  {
   "cell_type": "code",
   "execution_count": 42,
   "metadata": {},
   "outputs": [
    {
     "data": {
      "text/plain": [
       "GAP: [ z1+z2+z3+z4, -s12*z1*z3-s14*z2*z4 ]"
      ]
     },
     "execution_count": 42,
     "metadata": {},
     "output_type": "execute_result"
    }
   ],
   "source": [
    "SymanzikPolynomials( LD, [ 1, 2, 3, 4 ] )"
   ]
  },
  {
   "cell_type": "code",
   "execution_count": 43,
   "metadata": {},
   "outputs": [
    {
     "data": {
      "text/plain": [
       "GAP: [ z1+z2+z3, -s12*z1*z3 ]"
      ]
     },
     "execution_count": 43,
     "metadata": {},
     "output_type": "execute_result"
    }
   ],
   "source": [
    "SymanzikPolynomials( LD, [ 1, 2, 3 ] )"
   ]
  },
  {
   "cell_type": "code",
   "execution_count": 44,
   "metadata": {},
   "outputs": [
    {
     "data": {
      "text/plain": [
       "GAP: [ z1+z2, 0 ]"
      ]
     },
     "execution_count": 44,
     "metadata": {},
     "output_type": "execute_result"
    }
   ],
   "source": [
    "SymanzikPolynomials( LD, [ 1, 2 ] )"
   ]
  },
  {
   "cell_type": "code",
   "execution_count": 45,
   "metadata": {},
   "outputs": [
    {
     "data": {
      "text/plain": [
       "GAP: [ z1, 0 ]"
      ]
     },
     "execution_count": 45,
     "metadata": {},
     "output_type": "execute_result"
    }
   ],
   "source": [
    "SymanzikPolynomials( LD, [ 1 ] )"
   ]
  },
  {
   "cell_type": "code",
   "execution_count": 46,
   "metadata": {},
   "outputs": [
    {
     "data": {
      "text/plain": [
       "GAP: [ 0, 0 ]"
      ]
     },
     "execution_count": 46,
     "metadata": {},
     "output_type": "execute_result"
    }
   ],
   "source": [
    "SymanzikPolynomials( LD, [ ] )"
   ]
  },
  {
   "cell_type": "code",
   "execution_count": 47,
   "metadata": {},
   "outputs": [
    {
     "data": {
      "text/plain": [
       "GAP: <A 1 x 4 matrix over an external ring>"
      ]
     },
     "execution_count": 47,
     "metadata": {},
     "output_type": "execute_result"
    }
   ],
   "source": [
    "gen = GeneratorsOfScalelessSectors( LD )"
   ]
  },
  {
   "cell_type": "code",
   "execution_count": 48,
   "metadata": {},
   "outputs": [
    {
     "name": "stdout",
     "output_type": "stream",
     "text": [
      "D3*D4,D1*D4,D2*D3,D1*D2\n"
     ]
    }
   ],
   "source": [
    "Display( gen )"
   ]
  },
  {
   "cell_type": "code",
   "execution_count": 49,
   "metadata": {},
   "outputs": [
    {
     "data": {
      "text/plain": [
       "GAP: <An unevaluated 1 x 4 matrix over an external ring>"
      ]
     },
     "execution_count": 49,
     "metadata": {},
     "output_type": "execute_result"
    }
   ],
   "source": [
    "gen2 = GeneratorsOfScalelessSectors( LD, [ 2, 2, 2, 2 ] )"
   ]
  },
  {
   "cell_type": "code",
   "execution_count": 50,
   "metadata": {},
   "outputs": [
    {
     "name": "stdout",
     "output_type": "stream",
     "text": [
      "D1*D2*D3^2*D4^2,D1^2*D2*D3*D4^2,D1*D2^2*D3^2*D4,D1^2*D2^2*D3*D4\n"
     ]
    }
   ],
   "source": [
    "Display( gen2 )"
   ]
  }
 ],
 "metadata": {
  "@webio": {
   "lastCommId": null,
   "lastKernelId": null
  },
  "kernelspec": {
   "display_name": "Julia 1.8.1",
   "language": "julia",
   "name": "julia-1.8"
  },
  "language_info": {
   "file_extension": ".jl",
   "mimetype": "application/julia",
   "name": "julia",
   "version": "1.8.1"
  }
 },
 "nbformat": 4,
 "nbformat_minor": 2
}
