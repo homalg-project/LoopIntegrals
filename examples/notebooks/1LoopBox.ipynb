{
 "cells": [
  {
   "cell_type": "markdown",
   "id": "5dd5d895",
   "metadata": {},
   "source": [
    "[![Binder](https://mybinder.org/badge_logo.svg)](https://gesis.mybinder.org/v2/gh/homalg-project/CapAndHomalgNotebooks/master?urlpath=git-pull%3Frepo%3Dhttps%253A%252F%252Fgithub.com%252Fhomalg-project%252FLoopIntegrals%26urlpath%3Dtree%252FLoopIntegrals%252Fexamples%252F%252Fnotebooks%252F1LoopBox.ipynb%26branch%3Dmaster)"
   ]
  },
  {
   "cell_type": "markdown",
   "id": "b866de6b",
   "metadata": {
    "slideshow": {
     "slide_type": "-"
    }
   },
   "source": [
    "<img src=\"oneloopbox.svg\" alt=\"drawing\" width=\"200\" alt=\"centered image\"/>\n",
    "\n",
    "We consider the example of the massless one-loop box with a single loop momentum $\\ell_1$ and four onshell external momenta $k_1,\\ldots,k_4$ satsifying $k_i^2 = 0$ and $\\sum_{i=1}^4 k_i = 0$ (the latter due to conservation of momentum):\n",
    "$$\n",
    "  I(a_1, \\ldots, a_4) =\n",
    "  \\int\n",
    "  \\operatorname{d}^d \\ell_1\n",
    "  \\frac{1}{\\big[\\underbrace{-\\ell_1^2}_{P_1}\\big]^{a_1} \\big[\\underbrace{-(\\ell_1-k_1)^2}_{P_2}\\big]^{a_2} \\big[\\underbrace{-(\\ell_1-k_1-k_2)^2}_{P_3}\\big]^{a_3} \\big[\\underbrace{-(\\ell_1+k_4)^2}_{P_4}\\big]^{a_4} }\n",
    "$$\n",
    "\n",
    "The integral depends on the space-time dimension $d$ and the kinematic invariants $s_{12} := 2 k_1 \\cdot k_2$ and $s_{14} := 2 k_1 \\cdot k_4$.\n",
    "\n",
    "It is well-known that this integral family has a basis consisting of three master integerals which can be chosen as\n",
    "$$\n",
    "  \\{ I(1,1,1,1), I(1,0,1,0), I(0,1,0,1) \\} \\mbox{.}\n",
    "$$\n",
    "This is also the set produced by Laporta's algorithm.\n",
    "Our approach produces another basis\n",
    "$$\n",
    "  \\{ I(1,1,1,1), I(1,1,0,1), I(1,1,1,0) \\} \\mbox{.}\n",
    "$$\n",
    "\n",
    "This notebook includes the computations of [1, Examples 5.2 and 6.5].\n",
    "\n",
    "[1] Mohamed Barakat, Robin Brüser, Claus Fieker, Tobias Huber, Jan Piclum, Feynman integral reduction using Gröbner bases, [(arXiv:2210.05347)](https://arxiv.org/abs/2210.05347)."
   ]
  },
  {
   "cell_type": "code",
   "execution_count": 1,
   "id": "ea141208",
   "metadata": {
    "slideshow": {
     "slide_type": "slide"
    }
   },
   "outputs": [
    {
     "name": "stdout",
     "output_type": "stream",
     "text": [
      "CapAndHomalg v\u001b[32m1.5.1\u001b[39m\n",
      "Imported OSCAR's components GAP and Singular_jll\n",
      "Type: ?CapAndHomalg for more information\n"
     ]
    }
   ],
   "source": [
    "using CapAndHomalg"
   ]
  },
  {
   "cell_type": "markdown",
   "id": "8817634f",
   "metadata": {
    "slideshow": {
     "slide_type": "fragment"
    }
   },
   "source": [
    "The $\\mathsf{GAP}$ package $\\mathtt{LoopIntegrals}$ computes IBP relations among loop integrals. It relies on\n",
    "* the computer algebra system <font style=\"font-variant: small-caps\">Singular</font> for commutative Gröbner bases in polynomial rings;\n",
    "* its subsystem <font style=\"font-variant: small-caps\">Plural</font> for noncommutative Gröbner bases in the double shift algebra with polynomial coefficients;\n",
    "* Chyzak's $\\mathsf{Maple}$ package <TT>Ore_algebra</TT> for noncommutative Gröbner bases in the double shift algebra with __rational__ coefficients;\n",
    "* the Julia package <font style=\"font-variant: small-caps\">Hecke</font> for the linear algebra computations over the field of rational functions."
   ]
  },
  {
   "cell_type": "code",
   "execution_count": 2,
   "id": "7d48d359",
   "metadata": {
    "slideshow": {
     "slide_type": "-"
    }
   },
   "outputs": [],
   "source": [
    "LoadPackage( \"LoopIntegrals\" )"
   ]
  },
  {
   "cell_type": "markdown",
   "id": "b55e0d1a",
   "metadata": {
    "slideshow": {
     "slide_type": "slide"
    }
   },
   "source": [
    "We instantiate the loop diagram by specifying the loop momenta (here $\\ell_1$) and the linear independent external momenta (here chosen to be $k_1, k_2, k_4$, recall $k_3 = -k_1-k_2-k_4$):"
   ]
  },
  {
   "cell_type": "code",
   "execution_count": 3,
   "id": "2768a5f9",
   "metadata": {
    "slideshow": {
     "slide_type": "-"
    }
   },
   "outputs": [
    {
     "data": {
      "text/plain": [
       "GAP: <A loop diagram with loop momenta [ l1 ] & external momenta [ k1, k2, k4 ]>"
      ]
     },
     "execution_count": 3,
     "metadata": {},
     "output_type": "execute_result"
    }
   ],
   "source": [
    "LD = LoopDiagram( \"l1\", \"k1..2,k4\" )"
   ]
  },
  {
   "cell_type": "markdown",
   "id": "82e5c7f1",
   "metadata": {
    "slideshow": {
     "slide_type": "fragment"
    }
   },
   "source": [
    "We encode the onshell condition for the independent external momenta $k_1, k_2, k_4$, namely $k_i^2 = 0$ for $i=1,2,4$:"
   ]
  },
  {
   "cell_type": "code",
   "execution_count": 4,
   "id": "f7d89670",
   "metadata": {
    "slideshow": {
     "slide_type": "-"
    }
   },
   "outputs": [
    {
     "data": {
      "text/plain": [
       "GAP: [ k1^2, k2^2, k4^2 ]"
      ]
     },
     "execution_count": 4,
     "metadata": {},
     "output_type": "execute_result"
    }
   ],
   "source": [
    "rel1 = List( ExternalMomenta( LD ), k -> k^2 )"
   ]
  },
  {
   "cell_type": "markdown",
   "id": "40b4e6d9",
   "metadata": {
    "slideshow": {
     "slide_type": "fragment"
    }
   },
   "source": [
    "Then we encode onshell condition for the dependent external momentum: $k_3$, namely $k_3^2 = 0 = (k_1+k_2+k_4)^2$:"
   ]
  },
  {
   "cell_type": "code",
   "execution_count": 5,
   "id": "c54261e5",
   "metadata": {},
   "outputs": [],
   "source": [
    "rel2 = GapObj([ (k1+k2+k4)^2 ]);"
   ]
  },
  {
   "cell_type": "markdown",
   "id": "9e2e371a",
   "metadata": {
    "slideshow": {
     "slide_type": "fragment"
    }
   },
   "source": [
    "We now add both relations to our loop diagram data structure:"
   ]
  },
  {
   "cell_type": "code",
   "execution_count": 6,
   "id": "b9764c1c",
   "metadata": {},
   "outputs": [],
   "source": [
    "SetRelationsOfExternalMomenta( LD, Concatenation( rel1, rel2 ) )"
   ]
  },
  {
   "cell_type": "markdown",
   "id": "7df498de",
   "metadata": {
    "slideshow": {
     "slide_type": "slide"
    }
   },
   "source": [
    "The above relations among the external momenta imply the existence of two independent kinematic variables, the first of which is $s_{12} = 2 k_1 \\cdot k_2$:"
   ]
  },
  {
   "cell_type": "code",
   "execution_count": 7,
   "id": "5c327daa",
   "metadata": {
    "slideshow": {
     "slide_type": "-"
    }
   },
   "outputs": [
    {
     "data": {
      "text/plain": [
       "GAP: 2*k1*k2"
      ]
     },
     "execution_count": 7,
     "metadata": {},
     "output_type": "execute_result"
    }
   ],
   "source": [
    "s12 = 2*k1*k2"
   ]
  },
  {
   "cell_type": "markdown",
   "id": "ec37392f",
   "metadata": {
    "slideshow": {
     "slide_type": "fragment"
    }
   },
   "source": [
    "The following command instructs the system to replace any occurance of $2 k_1 \\cdot k_2$ by the symbol $s_{12}$:"
   ]
  },
  {
   "cell_type": "code",
   "execution_count": 8,
   "id": "4e814e0e",
   "metadata": {
    "slideshow": {
     "slide_type": "-"
    }
   },
   "outputs": [],
   "source": [
    "SetAbbreviation( s12, \"s12\" )"
   ]
  },
  {
   "cell_type": "markdown",
   "id": "34daa230",
   "metadata": {
    "slideshow": {
     "slide_type": "fragment"
    }
   },
   "source": [
    "We repeat the above for the second kinematic variable $s_{14} = 2 k_1 \\cdot k_4$:"
   ]
  },
  {
   "cell_type": "code",
   "execution_count": 9,
   "id": "e881382a",
   "metadata": {
    "slideshow": {
     "slide_type": "-"
    }
   },
   "outputs": [
    {
     "data": {
      "text/plain": [
       "GAP: 2*k1*k4"
      ]
     },
     "execution_count": 9,
     "metadata": {},
     "output_type": "execute_result"
    }
   ],
   "source": [
    "s14 = 2*k1*k4"
   ]
  },
  {
   "cell_type": "code",
   "execution_count": 10,
   "id": "de240d0f",
   "metadata": {},
   "outputs": [],
   "source": [
    "SetAbbreviation( s14, \"s14\" )"
   ]
  },
  {
   "cell_type": "markdown",
   "id": "38168649",
   "metadata": {},
   "source": [
    "With the above relations among the external momenta and the abbreviations of the independent kinematic variables the software is now able to express any polynomial in the scalar products of the external momenta in terms of the kinematic variables. This is the so-called subalgebra membership problem."
   ]
  },
  {
   "cell_type": "markdown",
   "id": "acbbbe19",
   "metadata": {
    "slideshow": {
     "slide_type": "slide"
    }
   },
   "source": [
    "We declare the four propagators $P_1 = -\\ell_1^2, P_2 = -(\\ell_1-k_1)^2, P_3 = -(\\ell_1-k_1-k_2)^2, P_4 = -(\\ell_1+k_4)^2$:"
   ]
  },
  {
   "cell_type": "code",
   "execution_count": 11,
   "id": "b2d0866a",
   "metadata": {},
   "outputs": [],
   "source": [
    "SetPropagators( LD, -[ l1^2, (l1-k1)^2, (l1-k1-k2)^2, (l1+k4)^2 ] )"
   ]
  },
  {
   "cell_type": "markdown",
   "id": "b3b3f44a",
   "metadata": {
    "slideshow": {
     "slide_type": "fragment"
    }
   },
   "source": [
    "In this examples the loop integral has no numerators:"
   ]
  },
  {
   "cell_type": "code",
   "execution_count": 12,
   "id": "574e0590",
   "metadata": {},
   "outputs": [],
   "source": [
    "SetNumerators( LD, -[ ] )"
   ]
  },
  {
   "cell_type": "markdown",
   "id": "0f6d212f",
   "metadata": {
    "slideshow": {
     "slide_type": "fragment"
    }
   },
   "source": [
    "It remains to declare the remaing independent Lorentz invariants:"
   ]
  },
  {
   "cell_type": "code",
   "execution_count": 13,
   "id": "dbf03ebd",
   "metadata": {
    "slideshow": {
     "slide_type": "-"
    }
   },
   "outputs": [],
   "source": [
    "SetIndependentLorentzInvariants( LD, [ l1^2, l1*k1, l1*k2, l1*k4, s12, s14 ] )"
   ]
  },
  {
   "cell_type": "markdown",
   "id": "b6cf1d11",
   "metadata": {
    "slideshow": {
     "slide_type": "fragment"
    }
   },
   "source": [
    "and indicate which of them are the kinematic ones:"
   ]
  },
  {
   "cell_type": "code",
   "execution_count": 14,
   "id": "e877f00a",
   "metadata": {},
   "outputs": [],
   "source": [
    "SetExtraLorentzInvariants( LD, [ s12, s14 ] )"
   ]
  },
  {
   "cell_type": "markdown",
   "id": "e22b4d0b",
   "metadata": {
    "slideshow": {
     "slide_type": "slide"
    }
   },
   "source": [
    "The polynomial ring $R$ associated to the loop diagram is a polynomial ring in the propagator variables $D_1, D_2, D_3, D_4$ over the polyomial ring in the dimension $d$ and the kinematic variables $s_{12}, s_{14}$:\n",
    "$$\n",
    "  \\mathbb{Q}[d,s_{12},s_{14}][D_1,D_2,D_3,D_4] \\mbox{.}\n",
    "$$"
   ]
  },
  {
   "cell_type": "code",
   "execution_count": 15,
   "id": "f59a80a3",
   "metadata": {
    "slideshow": {
     "slide_type": "-"
    }
   },
   "outputs": [
    {
     "data": {
      "text/plain": [
       "GAP: Q[d,s12,s14][D1,D2,D3,D4]"
      ]
     },
     "execution_count": 15,
     "metadata": {},
     "output_type": "execute_result"
    }
   ],
   "source": [
    "R = RingOfLoopDiagram( LD )"
   ]
  },
  {
   "cell_type": "markdown",
   "id": "80f7912a",
   "metadata": {
    "slideshow": {
     "slide_type": "fragment"
    }
   },
   "source": [
    "The following computations will take place in the associated double-shift algebra\n",
    "$$\n",
    "  Y^\\mathrm{pol} := \\mathbb{Q}[d,s_{12},s_{14}][a_1,a_2,a_3,a_4]<D_1,D_1^-,D_2,D_2^-,D_3,D_3^-,D_4,D_4^-> / ( D_i D_i^- = 1 = D_i^- D_i \\mid i = 1, \\ldots, 4 ) \\mbox{.}\n",
    "$$\n",
    "\n",
    "This a free associate algebra in the indeterminates $a_1, \\ldots, a_4, D_1, \\ldots, D_4, D_1^-, \\ldots, D_4^-$ over the polynomial ring $\\mathbb{Q}[d,s_{12},s_{14}]$ satisfying the relations:\n",
    "\n",
    "* $D_i a_i = (a_i - 1) D_i$, $D_i^- a_i = (a_i + 1) D_i^-$, for all $i=1, \\ldots, 4$;\n",
    "* $a_i a_j = a_j a_i$, $D_i D_j = D_j D_i$, $D_i^- D_j^- = D_j^- D_i^-$ for all $i,j = 1, \\ldots, 4$;\n",
    "* $D_i a_j = a_j D_i$, $D_i^- a_j = a_j D_i^-$, for all $i \\neq j = 1, \\ldots, 4$;\n",
    "* $D_i D_i^- = D_i^- D_i$ for all $i = 1, \\ldots, 4$;\n",
    "* $D_i D_i^- = 1$.\n"
   ]
  },
  {
   "cell_type": "code",
   "execution_count": 16,
   "id": "c0ea041a",
   "metadata": {},
   "outputs": [
    {
     "data": {
      "text/plain": [
       "GAP: Q[d,s12,s14][a1,a2,a3,a4]<D1,D1_,D2,D2_,D3,D3_,D4,D4_>/( D1*D1_-1, D2*D2_-1, D3*D3_-1, D4*D4_-1 )"
      ]
     },
     "execution_count": 16,
     "metadata": {},
     "output_type": "execute_result"
    }
   ],
   "source": [
    "Ypol = DoubleShiftAlgebra( R )"
   ]
  },
  {
   "cell_type": "code",
   "execution_count": 17,
   "id": "76eeef63",
   "metadata": {
    "slideshow": {
     "slide_type": "fragment"
    }
   },
   "outputs": [
    {
     "data": {
      "text/plain": [
       "GAP: Q[d,s12,s14][D1,D2,D3,D4]"
      ]
     },
     "execution_count": 17,
     "metadata": {},
     "output_type": "execute_result"
    }
   ],
   "source": [
    "R = RingOfLoopDiagram( LD )"
   ]
  },
  {
   "cell_type": "code",
   "execution_count": 18,
   "id": "28ff143f",
   "metadata": {
    "slideshow": {
     "slide_type": "fragment"
    }
   },
   "outputs": [
    {
     "data": {
      "text/plain": [
       "GAP: Q[d,s12,s14][a1,a2,a3,a4]<D1,D1_,D2,D2_,D3,D3_,D4,D4_>/( D1*D1_-1, D2*D2_-1, D3*D3_-1, D4*D4_-1 )"
      ]
     },
     "execution_count": 18,
     "metadata": {},
     "output_type": "execute_result"
    }
   ],
   "source": [
    "Ypol = DoubleShiftAlgebra( R )"
   ]
  },
  {
   "cell_type": "code",
   "execution_count": 19,
   "id": "b645b342",
   "metadata": {
    "slideshow": {
     "slide_type": "fragment"
    }
   },
   "outputs": [
    {
     "data": {
      "text/plain": [
       "GAP: <A 4 x 1 matrix over a residue class ring>"
      ]
     },
     "execution_count": 19,
     "metadata": {},
     "output_type": "execute_result"
    }
   ],
   "source": [
    "ibps = MatrixOfIBPRelations( LD )"
   ]
  },
  {
   "cell_type": "code",
   "execution_count": 20,
   "id": "28a343f7",
   "metadata": {
    "scrolled": true,
    "slideshow": {
     "slide_type": "fragment"
    }
   },
   "outputs": [
    {
     "data": {
      "text/plain": [
       "GAP: |[ -a2*D1*D2_-s12*a3*D3_-a3*D1*D3_-a4*D1*D4_+d-2*a1-a2-a3-a4 ]|"
      ]
     },
     "execution_count": 20,
     "metadata": {},
     "output_type": "execute_result"
    }
   ],
   "source": [
    "r1 = ibps[1,1]"
   ]
  },
  {
   "cell_type": "code",
   "execution_count": 21,
   "id": "d139f48d",
   "metadata": {
    "slideshow": {
     "slide_type": "slide"
    }
   },
   "outputs": [
    {
     "name": "stdout",
     "output_type": "stream",
     "text": [
      "[ [ |[ -a2 ]|, |[ D1*D2_ ]| ],\n",
      "  [ |[ -a3 ]|, |[ D1*D3_ ]| ],\n",
      "  [ |[ -a4 ]|, |[ D1*D4_ ]| ],\n",
      "  [ |[ -s12*a3 ]|, |[ D3_ ]| ],\n",
      "  [ |[ d-2*a1-a2-a3-a4 ]|, |[ 1 ]| ] ]\n"
     ]
    }
   ],
   "source": [
    "ViewList( DecomposeInMonomials( r1 ) )"
   ]
  },
  {
   "cell_type": "code",
   "execution_count": 22,
   "id": "fb139961",
   "metadata": {
    "slideshow": {
     "slide_type": "fragment"
    }
   },
   "outputs": [
    {
     "data": {
      "text/plain": [
       "GAP: <A non-zero 28 x 1 matrix over a residue class ring>"
      ]
     },
     "execution_count": 22,
     "metadata": {},
     "output_type": "execute_result"
    }
   ],
   "source": [
    "Gpol = BasisOfRows( ibps )"
   ]
  },
  {
   "cell_type": "code",
   "execution_count": 23,
   "id": "a1ff64b5",
   "metadata": {
    "slideshow": {
     "slide_type": "fragment"
    }
   },
   "outputs": [
    {
     "data": {
      "text/plain": [
       "GAP: |[ a1*D1_ ]|"
      ]
     },
     "execution_count": 23,
     "metadata": {},
     "output_type": "execute_result"
    }
   ],
   "source": [
    "NormalForm( \"a1*D1_\" /  Ypol, Gpol )"
   ]
  },
  {
   "cell_type": "code",
   "execution_count": 24,
   "id": "cfb9a644",
   "metadata": {},
   "outputs": [
    {
     "data": {
      "text/plain": [
       "GAP: <A 1 x 4 matrix over an external ring>"
      ]
     },
     "execution_count": 24,
     "metadata": {},
     "output_type": "execute_result"
    }
   ],
   "source": [
    "gen = GeneratorsOfScalelessSectors( LD )"
   ]
  },
  {
   "cell_type": "code",
   "execution_count": 25,
   "id": "d76ad472",
   "metadata": {},
   "outputs": [
    {
     "name": "stdout",
     "output_type": "stream",
     "text": [
      "D3*D4,D1*D4,D2*D3,D1*D2\n"
     ]
    }
   ],
   "source": [
    "Display( gen )"
   ]
  },
  {
   "cell_type": "markdown",
   "id": "72a76fd1",
   "metadata": {},
   "source": [
    "Now we look at the special IBP relations (cf. [1, Example 6.5]):"
   ]
  },
  {
   "cell_type": "code",
   "execution_count": 26,
   "id": "d5680689",
   "metadata": {},
   "outputs": [
    {
     "data": {
      "text/plain": [
       "GAP: [ <A 4 x 4 matrix over an external ring>, <A 4 x 4 matrix over an external ring> ]"
      ]
     },
     "execution_count": 26,
     "metadata": {},
     "output_type": "execute_result"
    }
   ],
   "source": [
    "E12 = PairOfMatricesOfLoopDiagramInPropagators( LD )"
   ]
  },
  {
   "cell_type": "code",
   "execution_count": 27,
   "id": "a9d24d65",
   "metadata": {},
   "outputs": [
    {
     "name": "stdout",
     "output_type": "stream",
     "text": [
      "2*D1,     D1-D2,     -s12+D2-D3,-D1+D4,    \n",
      "D1+D2,    D1-D2,     D2-D3,     s14-D1+D4, \n",
      "s12+D1+D3,s12+D1-D2, D2-D3,     -s12-D1+D4,\n",
      "D1+D4,    -s14+D1-D2,s14+D2-D3, -D1+D4     \n"
     ]
    }
   ],
   "source": [
    "Display( E12[1] )"
   ]
  },
  {
   "cell_type": "code",
   "execution_count": 28,
   "id": "93694e64",
   "metadata": {},
   "outputs": [
    {
     "data": {
      "text/plain": [
       "GAP: <A non-zero 4 x 12 matrix over an external ring>"
      ]
     },
     "execution_count": 28,
     "metadata": {},
     "output_type": "execute_result"
    }
   ],
   "source": [
    "S = SyzygiesOfColumns( E12 )"
   ]
  },
  {
   "cell_type": "code",
   "execution_count": 29,
   "id": "b3312c97",
   "metadata": {},
   "outputs": [
    {
     "data": {
      "text/plain": [
       "GAP: <A non-zero 4 x 6 matrix over an external ring>"
      ]
     },
     "execution_count": 29,
     "metadata": {},
     "output_type": "execute_result"
    }
   ],
   "source": [
    "Sred = ReducedBasisOfColumnModule( S )"
   ]
  },
  {
   "cell_type": "code",
   "execution_count": 30,
   "id": "0c157669",
   "metadata": {},
   "outputs": [
    {
     "name": "stdout",
     "output_type": "stream",
     "text": [
      "D2-D4,D1-D3,s12*D4+2*D3*D4-2*D4^2,     s14*D3-2*D3^2+2*D3*D4,-D3*D4^2,D3^2*D4, \n",
      "D4,   -D1,  -s12*D4+D2*D4-D3*D4+2*D4^2,-D1*D3-D3*D4,         D3*D4^2, 0,       \n",
      "0,    -D1,  D1*D4+D2*D4,               -2*D1*D3,             0,       D1*D3*D4,\n",
      "D2,   0,    2*D2*D4,                   -D1*D3-D2*D3,         D2*D3*D4,0        \n"
     ]
    }
   ],
   "source": [
    "Display( Sred )"
   ]
  },
  {
   "cell_type": "code",
   "execution_count": 31,
   "id": "4087b453",
   "metadata": {},
   "outputs": [
    {
     "name": "stdout",
     "output_type": "stream",
     "text": [
      "[ [ D2-D4, D1-D3, s12*D4+2*D3*D4-2*D4^2 ], [ D4, -D1, -s12*D4+D2*D4-D3*D4+2*D4^2 ], [ 0, -D1, D1*D4+D2*D4 ], [ D2, 0, 2*D2*D4 ] ]\n"
     ]
    }
   ],
   "source": [
    "Display( EntriesOfHomalgMatrixAsListList( CertainColumns( Sred, Array( 1:3 ) ) ) )"
   ]
  },
  {
   "cell_type": "code",
   "execution_count": 32,
   "id": "03b20d53",
   "metadata": {},
   "outputs": [
    {
     "data": {
      "text/plain": [
       "GAP: |[ -s14*a2+s14*a4+d*D2-a1*D2-a2*D2-a3*D2-a4*D2-d*D4+a1*D4+a2*D4+a3*D4+a4*D4 ]|"
      ]
     },
     "execution_count": 32,
     "metadata": {},
     "output_type": "execute_result"
    }
   ],
   "source": [
    "Sibp1 = IBPRelation( CertainColumns( Sred, [ 1 ] ), LD )"
   ]
  },
  {
   "cell_type": "code",
   "execution_count": 33,
   "id": "57e3165f",
   "metadata": {},
   "outputs": [
    {
     "name": "stdout",
     "output_type": "stream",
     "text": [
      "[ [ |[ d-a1-a2-a3-a4 ]|, |[ D2 ]| ],\n",
      "  [ |[ -d+a1+a2+a3+a4 ]|, |[ D4 ]| ],\n",
      "  [ |[ -s14*a2+s14*a4 ]|, |[ 1 ]| ] ]\n"
     ]
    }
   ],
   "source": [
    "ViewList( DecomposeInMonomials( Sibp1 ) )"
   ]
  },
  {
   "cell_type": "code",
   "execution_count": 34,
   "id": "7fdf19f7",
   "metadata": {},
   "outputs": [
    {
     "data": {
      "text/plain": [
       "GAP: |[ -s12*a1+s12*a3+d*D1-a1*D1-a2*D1-a3*D1-a4*D1-d*D3+a1*D3+a2*D3+a3*D3+a4*D3 ]|"
      ]
     },
     "execution_count": 34,
     "metadata": {},
     "output_type": "execute_result"
    }
   ],
   "source": [
    "Sibp2 = IBPRelation( CertainColumns( Sred, [ 2 ] ), LD )"
   ]
  },
  {
   "cell_type": "code",
   "execution_count": 35,
   "id": "18c8fbe3",
   "metadata": {},
   "outputs": [
    {
     "name": "stdout",
     "output_type": "stream",
     "text": [
      "[ [ |[ d-a1-a2-a3-a4 ]|, |[ D1 ]| ],\n",
      "  [ |[ -d+a1+a2+a3+a4 ]|, |[ D3 ]| ],\n",
      "  [ |[ -s12*a1+s12*a3 ]|, |[ 1 ]| ] ]\n"
     ]
    }
   ],
   "source": [
    "ViewList( DecomposeInMonomials( Sibp2 ) )"
   ]
  },
  {
   "cell_type": "code",
   "execution_count": 36,
   "id": "9aa28e89",
   "metadata": {},
   "outputs": [
    {
     "data": {
      "text/plain": [
       "GAP: |[ -s12*s14*a4-s14*a4*D1-s12*a4*D2-s14*a4*D3+d*s12*D4-2*s12*a2*D4-2*s14*a2*D4-2*s12*a3*D4-s12*a4*D4+2*s14*a4*D4+2*d*D3*D4-2*a1*D3*D4-2*a2*D3*D4-2*a3*D3*D4-2*a4*D3*D4-2*d*D4^2+2*a1*D4^2+2*a2*D4^2+2*a3*D4^2+2*a4*D4^2+s12*s14+s14*D1+s12*D2+s14*D3+s12*D4-2*s14*D4+2*D3*D4-2*D4^2 ]|"
      ]
     },
     "execution_count": 36,
     "metadata": {},
     "output_type": "execute_result"
    }
   ],
   "source": [
    "Sibp3 = IBPRelation( CertainColumns( Sred, [ 3 ] ), LD )"
   ]
  },
  {
   "cell_type": "code",
   "execution_count": 37,
   "id": "cb89b6a1",
   "metadata": {},
   "outputs": [
    {
     "name": "stdout",
     "output_type": "stream",
     "text": [
      "[ [ |[ 2*d-2*a1-2*a2-2*a3-2*a4+2 ]|, |[ D3*D4 ]| ],\n",
      "  [ |[ -2*d+2*a1+2*a2+2*a3+2*a4-2 ]|, |[ D4^2 ]| ],\n",
      "  [ |[ -s14*a4+s14 ]|, |[ D1 ]| ],\n",
      "  [ |[ -s12*a4+s12 ]|, |[ D2 ]| ],\n",
      "  [ |[ -s14*a4+s14 ]|, |[ D3 ]| ],\n",
      "  [ |[ d*s12-2*s12*a2-2*s14*a2-2*s12*a3-s12*a4+2*s14*a4+s12-2*s14 ]|, \n",
      "  |[ D4 ]| ],\n",
      "  [ |[ -s12*s14*a4+s12*s14 ]|, |[ 1 ]| ] ]\n"
     ]
    }
   ],
   "source": [
    "ViewList( DecomposeInMonomials( Sibp3 ) )"
   ]
  },
  {
   "cell_type": "code",
   "execution_count": 38,
   "id": "5e322802",
   "metadata": {},
   "outputs": [
    {
     "data": {
      "text/plain": [
       "GAP: <A non-zero 28 x 1 matrix over a residue class ring>"
      ]
     },
     "execution_count": 38,
     "metadata": {},
     "output_type": "execute_result"
    }
   ],
   "source": [
    "SGpol = BasisOfSpecialIBPRelations( LD )"
   ]
  },
  {
   "cell_type": "code",
   "execution_count": 39,
   "id": "963ff265",
   "metadata": {},
   "outputs": [
    {
     "data": {
      "text/plain": [
       "true"
      ]
     },
     "execution_count": 39,
     "metadata": {},
     "output_type": "execute_result"
    }
   ],
   "source": [
    "Gpol == SGpol"
   ]
  }
 ],
 "metadata": {
  "@webio": {
   "lastCommId": null,
   "lastKernelId": null
  },
  "celltoolbar": "Slideshow",
  "kernelspec": {
   "display_name": "Julia 1.8.5",
   "language": "julia",
   "name": "julia-1.8"
  },
  "language_info": {
   "file_extension": ".jl",
   "mimetype": "application/julia",
   "name": "julia",
   "version": "1.8.5"
  }
 },
 "nbformat": 4,
 "nbformat_minor": 5
}
